{
  "nbformat": 4,
  "nbformat_minor": 0,
  "metadata": {
    "colab": {
      "provenance": [],
      "collapsed_sections": [],
      "private_outputs": true,
      "authorship_tag": "ABX9TyPn3FjFOIKietvbsLSrTFHA",
      "include_colab_link": true
    },
    "kernelspec": {
      "name": "python3",
      "display_name": "Python 3"
    },
    "language_info": {
      "name": "python"
    },
    "gpuClass": "standard"
  },
  "cells": [
    {
      "cell_type": "markdown",
      "metadata": {
        "id": "view-in-github",
        "colab_type": "text"
      },
      "source": [
        "<a href=\"https://colab.research.google.com/github/BHARATHBN-123/HousePricePrediction/blob/main/HousePricePrediction.ipynb\" target=\"_parent\"><img src=\"https://colab.research.google.com/assets/colab-badge.svg\" alt=\"Open In Colab\"/></a>"
      ]
    },
    {
      "cell_type": "code",
      "execution_count": null,
      "metadata": {
        "id": "VvRSTCVAwqBI"
      },
      "outputs": [],
      "source": [
        "import pandas as pd\n",
        "import numpy as np \n",
        "import matplotlib.pyplot as plt\n",
        "%matplotlib inline\n",
        "import warnings\n",
        "warnings.filterwarnings(\"ignore\", category=FutureWarning) \n"
      ]
    },
    {
      "cell_type": "code",
      "source": [
        "from sklearn.datasets import load_boston"
      ],
      "metadata": {
        "id": "lViidJh8xFNu"
      },
      "execution_count": null,
      "outputs": []
    },
    {
      "cell_type": "code",
      "source": [
        "boston = load_boston()"
      ],
      "metadata": {
        "id": "G1GtekOrxUOz"
      },
      "execution_count": null,
      "outputs": []
    },
    {
      "cell_type": "code",
      "source": [
        "boston.keys()"
      ],
      "metadata": {
        "id": "Y4lnvd094Kl4"
      },
      "execution_count": null,
      "outputs": []
    },
    {
      "cell_type": "code",
      "source": [
        "print(boston.DESCR)"
      ],
      "metadata": {
        "id": "g_cvb1yd46L5"
      },
      "execution_count": null,
      "outputs": []
    },
    {
      "cell_type": "code",
      "source": [
        "dataset = pd.DataFrame(boston.data , columns=boston.feature_names)"
      ],
      "metadata": {
        "id": "U7aN9b5Q4wVT"
      },
      "execution_count": null,
      "outputs": []
    },
    {
      "cell_type": "code",
      "source": [
        "dataset.head()"
      ],
      "metadata": {
        "id": "B-YnNUHGcSLe"
      },
      "execution_count": null,
      "outputs": []
    },
    {
      "cell_type": "code",
      "source": [
        "dataset['Price'] = boston.target"
      ],
      "metadata": {
        "id": "loLwIVaucYJt"
      },
      "execution_count": null,
      "outputs": []
    },
    {
      "cell_type": "code",
      "source": [
        "dataset.head()"
      ],
      "metadata": {
        "id": "UZ5aHk_qdpod"
      },
      "execution_count": null,
      "outputs": []
    },
    {
      "cell_type": "code",
      "source": [
        "dataset.describe()\n"
      ],
      "metadata": {
        "id": "D0R8CKUSdsyi"
      },
      "execution_count": null,
      "outputs": []
    },
    {
      "cell_type": "code",
      "source": [
        "##CHECK THE MISSING VALUES\n"
      ],
      "metadata": {
        "id": "3sZuul9hgSPV"
      },
      "execution_count": null,
      "outputs": []
    },
    {
      "cell_type": "code",
      "source": [
        "dataset.isna().sum()"
      ],
      "metadata": {
        "id": "gf0Q7cjEgeAL"
      },
      "execution_count": null,
      "outputs": []
    },
    {
      "cell_type": "code",
      "source": [
        "##EXPLORATORY DATA ANALYSIS"
      ],
      "metadata": {
        "id": "DK1XcN_kgjRa"
      },
      "execution_count": null,
      "outputs": []
    },
    {
      "cell_type": "code",
      "source": [
        "# 1) FInding the corelation"
      ],
      "metadata": {
        "id": "n0HkbI_8h66I"
      },
      "execution_count": null,
      "outputs": []
    },
    {
      "cell_type": "code",
      "source": [
        "dataset.corr()"
      ],
      "metadata": {
        "id": "lutFEJfFh_le"
      },
      "execution_count": null,
      "outputs": []
    },
    {
      "cell_type": "code",
      "source": [
        "import seaborn as sns\n",
        "sns.pairplot(dataset)"
      ],
      "metadata": {
        "id": "eZ-LsYp0iBnq"
      },
      "execution_count": null,
      "outputs": []
    },
    {
      "cell_type": "code",
      "source": [
        "sns.scatterplot(dataset['CRIM'],dataset['Price'])"
      ],
      "metadata": {
        "id": "WZ8ssoPNiOn2"
      },
      "execution_count": null,
      "outputs": []
    },
    {
      "cell_type": "code",
      "source": [
        "sns.regplot(dataset['CRIM'],dataset['Price'])"
      ],
      "metadata": {
        "id": "2iAqoXS-k-xT"
      },
      "execution_count": null,
      "outputs": []
    },
    {
      "cell_type": "code",
      "source": [
        "## seperating Dependent variable from independent"
      ],
      "metadata": {
        "id": "KW35Pg3iHIDw"
      },
      "execution_count": null,
      "outputs": []
    },
    {
      "cell_type": "code",
      "source": [
        "X = dataset.iloc[:,:-1]\n",
        "y = dataset.iloc[:,-1]"
      ],
      "metadata": {
        "id": "IjSSawAjlrsc"
      },
      "execution_count": null,
      "outputs": []
    },
    {
      "cell_type": "code",
      "source": [
        "X.head()"
      ],
      "metadata": {
        "id": "jCM2d6SziLBe"
      },
      "execution_count": null,
      "outputs": []
    },
    {
      "cell_type": "code",
      "source": [
        "y.head()"
      ],
      "metadata": {
        "id": "V4oOrI0mHUsb"
      },
      "execution_count": null,
      "outputs": []
    },
    {
      "cell_type": "markdown",
      "source": [
        "**Train Test Split**"
      ],
      "metadata": {
        "id": "JShm6agMHnZr"
      }
    },
    {
      "cell_type": "code",
      "source": [
        "from sklearn.model_selection import train_test_split\n",
        "X_train ,X_test,y_train,y_test = train_test_split(X,y,test_size = 0.3 , random_state=42)"
      ],
      "metadata": {
        "id": "BoxT_BlHHiAF"
      },
      "execution_count": null,
      "outputs": []
    },
    {
      "cell_type": "code",
      "source": [
        "X_train.head()"
      ],
      "metadata": {
        "id": "gAj6GDyHOOZs"
      },
      "execution_count": null,
      "outputs": []
    },
    {
      "cell_type": "code",
      "source": [
        "X_test.head()"
      ],
      "metadata": {
        "id": "kOFNcbBeOUzi"
      },
      "execution_count": null,
      "outputs": []
    },
    {
      "cell_type": "code",
      "source": [
        "y_train.head()"
      ],
      "metadata": {
        "id": "vOBZVzR-OWxK"
      },
      "execution_count": null,
      "outputs": []
    },
    {
      "cell_type": "code",
      "source": [
        "y_test.head()"
      ],
      "metadata": {
        "id": "BXqmappeObAr"
      },
      "execution_count": null,
      "outputs": []
    },
    {
      "cell_type": "code",
      "source": [
        "from sklearn.preprocessing import StandardScaler\n",
        "scaler = StandardScaler()"
      ],
      "metadata": {
        "id": "VgXJ00iVOdOR"
      },
      "execution_count": null,
      "outputs": []
    },
    {
      "cell_type": "code",
      "source": [
        "X_train = scaler.fit_transform(X_train)"
      ],
      "metadata": {
        "id": "FlaPkZLJbANK"
      },
      "execution_count": null,
      "outputs": []
    },
    {
      "cell_type": "code",
      "source": [
        "X_train"
      ],
      "metadata": {
        "id": "pOveicigbNdn"
      },
      "execution_count": null,
      "outputs": []
    },
    {
      "cell_type": "code",
      "source": [
        "X_test = scaler.transform(X_test)"
      ],
      "metadata": {
        "id": "DIdNL2oFbO-f"
      },
      "execution_count": null,
      "outputs": []
    },
    {
      "cell_type": "code",
      "source": [
        "X_test"
      ],
      "metadata": {
        "id": "q5YWdVqmORc2"
      },
      "execution_count": null,
      "outputs": []
    },
    {
      "cell_type": "markdown",
      "source": [
        "**Model Training**"
      ],
      "metadata": {
        "id": "keBn0u0_eKy3"
      }
    },
    {
      "cell_type": "code",
      "source": [
        "from sklearn.linear_model import LinearRegression"
      ],
      "metadata": {
        "id": "zpV1v1O-eLxY"
      },
      "execution_count": null,
      "outputs": []
    },
    {
      "cell_type": "code",
      "source": [
        "model = LinearRegression()"
      ],
      "metadata": {
        "id": "ip5YTlUceYb7"
      },
      "execution_count": null,
      "outputs": []
    },
    {
      "cell_type": "code",
      "source": [
        "model.fit(X_train,y_train)"
      ],
      "metadata": {
        "id": "BWlihxJDec6G"
      },
      "execution_count": null,
      "outputs": []
    },
    {
      "cell_type": "code",
      "source": [
        "# getting the coefficient\n",
        "print(model.coef_)"
      ],
      "metadata": {
        "id": "2wPPmf3veZ7x"
      },
      "execution_count": null,
      "outputs": []
    },
    {
      "cell_type": "code",
      "source": [
        "#getting the intercept\n",
        "print(model.intercept_)"
      ],
      "metadata": {
        "id": "iMWn-RIy_VD9"
      },
      "execution_count": null,
      "outputs": []
    },
    {
      "cell_type": "code",
      "source": [
        "#regression prediction\n",
        "reg_pred = model.predict(X_test)"
      ],
      "metadata": {
        "id": "VwBVnjhyzXgl"
      },
      "execution_count": null,
      "outputs": []
    },
    {
      "cell_type": "code",
      "source": [
        "#printing prediction values\n",
        "reg_pred"
      ],
      "metadata": {
        "id": "HF8jsAcjzqaL"
      },
      "execution_count": null,
      "outputs": []
    },
    {
      "cell_type": "code",
      "source": [
        "#scatter plotting using x_test and predected results\n",
        "plt.scatter(y_test , reg_pred)\n",
        "plt.xlabel(\"y_test\")\n",
        "plt.ylabel(\"reg_pred\")\n",
        "plt.show\n"
      ],
      "metadata": {
        "id": "XWv9SyH5zwis"
      },
      "execution_count": null,
      "outputs": []
    },
    {
      "cell_type": "code",
      "source": [
        "#for finding residuals or Errors in prediction\n",
        "residuals = y_test - reg_pred"
      ],
      "metadata": {
        "id": "jSLUk4mI_b63"
      },
      "execution_count": null,
      "outputs": []
    },
    {
      "cell_type": "code",
      "source": [
        "#printing the residuals\n",
        "residuals"
      ],
      "metadata": {
        "id": "cuV9iW3YeQB8"
      },
      "execution_count": null,
      "outputs": []
    },
    {
      "cell_type": "code",
      "source": [
        "#plotting the residuals\n",
        "sns.displot(residuals , kind ='kde')"
      ],
      "metadata": {
        "id": "4eY0FE-dc6cz"
      },
      "execution_count": null,
      "outputs": []
    },
    {
      "cell_type": "code",
      "source": [
        "#scatter plot between preictions and residuals\n",
        "plt.scatter(reg_pred , residuals)"
      ],
      "metadata": {
        "id": "cAeXOViq9D4d"
      },
      "execution_count": null,
      "outputs": []
    },
    {
      "cell_type": "code",
      "source": [
        "from sklearn.metrics import mean_squared_error , mean_absolute_error\n",
        "MeanSquaredError = mean_squared_error(y_test , reg_pred)\n",
        "MeanAbsoluteError = mean_absolute_error(y_test , reg_pred)\n",
        "MeanAbsoluteSquaredError = np.sqrt(MeanAbsoluteError)"
      ],
      "metadata": {
        "id": "6GLmYZMQ9bJg"
      },
      "execution_count": null,
      "outputs": []
    },
    {
      "cell_type": "code",
      "source": [
        "print(\"MeanSquaredError : \",MeanSquaredError)\n",
        "print(\"MeanAbsoluteError : \",MeanAbsoluteError)\n",
        "print(\"MeanAbsoluteSquaredError : \",MeanAbsoluteSquaredError)"
      ],
      "metadata": {
        "id": "eRr3LM3geEd2"
      },
      "execution_count": null,
      "outputs": []
    },
    {
      "cell_type": "markdown",
      "source": [
        "**R squared and Adjusted R squared**"
      ],
      "metadata": {
        "id": "KRp3QHp4rj56"
      }
    },
    {
      "cell_type": "code",
      "source": [
        "#for finding R squared\n",
        "from sklearn.metrics import r2_score"
      ],
      "metadata": {
        "id": "bKlCkkhrrHJd"
      },
      "execution_count": null,
      "outputs": []
    },
    {
      "cell_type": "code",
      "source": [
        "score = r2_score(y_test , reg_pred)\n",
        "print(score)"
      ],
      "metadata": {
        "id": "I7mwuaz2pzFe"
      },
      "execution_count": null,
      "outputs": []
    },
    {
      "cell_type": "code",
      "source": [
        "#display adjusted r squared\n",
        "1-(1-score)*(len(y_test)-1)/(len(y_test)-X_test.shape[1]-1)"
      ],
      "metadata": {
        "id": "KWArv9Gh1pk9"
      },
      "execution_count": null,
      "outputs": []
    },
    {
      "cell_type": "markdown",
      "source": [
        "**New data Prediction**"
      ],
      "metadata": {
        "id": "STPH-8pV6WYd"
      }
    },
    {
      "cell_type": "code",
      "source": [
        "sample_data = boston.data[0].reshape(1,-1)"
      ],
      "metadata": {
        "id": "0SUmDU3A6Z6j"
      },
      "execution_count": null,
      "outputs": []
    },
    {
      "cell_type": "code",
      "source": [
        "scaler.transform(sample_data)"
      ],
      "metadata": {
        "id": "W0xiNyw_6iPV"
      },
      "execution_count": null,
      "outputs": []
    },
    {
      "cell_type": "code",
      "source": [
        "model.predict(scaler.transform(sample_data))"
      ],
      "metadata": {
        "id": "rK6g1Va46qD5"
      },
      "execution_count": null,
      "outputs": []
    },
    {
      "cell_type": "markdown",
      "source": [],
      "metadata": {
        "id": "WM5o8MvNiTYo"
      }
    },
    {
      "cell_type": "code",
      "source": [
        "\n"
      ],
      "metadata": {
        "id": "rvHvMygL2LEg"
      },
      "execution_count": null,
      "outputs": []
    },
    {
      "cell_type": "code",
      "source": [],
      "metadata": {
        "id": "s7ge6kRCpzM0"
      },
      "execution_count": null,
      "outputs": []
    },
    {
      "cell_type": "code",
      "source": [],
      "metadata": {
        "id": "V4rYwY5rpzTs"
      },
      "execution_count": null,
      "outputs": []
    },
    {
      "cell_type": "code",
      "source": [],
      "metadata": {
        "id": "rfiP-4Bmpzam"
      },
      "execution_count": null,
      "outputs": []
    },
    {
      "cell_type": "code",
      "source": [],
      "metadata": {
        "id": "kwjzTJl-pzh4"
      },
      "execution_count": null,
      "outputs": []
    }
  ]
}